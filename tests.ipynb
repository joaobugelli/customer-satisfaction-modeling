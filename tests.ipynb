{
 "cells": [
  {
   "cell_type": "code",
   "execution_count": null,
   "metadata": {},
   "outputs": [],
   "source": [
    "# Define model formula\n",
    "formula = 'y ~ width'\n",
    "\n",
    "# Define probability distribution for the response variable for \n",
    "# the linear (LM) and logistic (GLM) model\n",
    "family_LM = sm.families.Gaussian()\n",
    "family_GLM = sm.families.Binomial()\n",
    "\n",
    "# Define and fit a linear regression model\n",
    "model_LM = glm(formula = formula, data = crab, family = family_LM).fit()\n",
    "print(model_LM.summary())\n",
    "\n",
    "# Define and fit a logistic regression model\n",
    "model_GLM = glm(formula = formula, data = crab, family = family_GLM).fit()\n",
    "print(model_GLM.summary())\n",
    "\n",
    "crab.head()"
   ]
  },
  {
   "cell_type": "code",
   "execution_count": null,
   "metadata": {},
   "outputs": [],
   "source": [
    "# View test set\n",
    "print(test)\n",
    "\n",
    "# Compute estimated probabilities for linear model: pred_lm\n",
    "pred_lm = model_LM.predict(test)\n",
    "\n",
    "# # Compute estimated probabilities for GLM model: pred_glm\n",
    "pred_glm = model_GLM.predict(test)\n",
    "\n",
    "# # Create dataframe of predictions for linear and GLM model: predictions\n",
    "predictions = pd.DataFrame({'Pred_LM': pred_lm, 'Pred_GLM': pred_glm})\n",
    "\n",
    "# # Concatenate test sample and predictions and view the results\n",
    "all_data = pd.concat([test, predictions], axis = 1)\n",
    "print(all_data)"
   ]
  }
 ],
 "metadata": {
  "language_info": {
   "name": "python"
  }
 },
 "nbformat": 4,
 "nbformat_minor": 2
}
